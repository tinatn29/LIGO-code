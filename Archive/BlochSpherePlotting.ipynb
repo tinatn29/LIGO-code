{
  "nbformat": 4,
  "nbformat_minor": 0,
  "metadata": {
    "colab": {
      "name": "BlochSpherePlotting.ipynb",
      "provenance": [],
      "collapsed_sections": []
    },
    "kernelspec": {
      "name": "python3",
      "display_name": "Python 3"
    },
    "language_info": {
      "name": "python"
    }
  },
  "cells": [
    {
      "cell_type": "markdown",
      "source": [
        "# Install correct packages + Define Wigner Function (run all 5 cells)"
      ],
      "metadata": {
        "id": "XCsg4RVNdTYA"
      }
    },
    {
      "cell_type": "code",
      "metadata": {
        "id": "XbpGtfnghkQp"
      },
      "source": [
        "!pip install scipy==1.2.1\n",
        "!pip install qutip"
      ],
      "execution_count": null,
      "outputs": []
    },
    {
      "cell_type": "code",
      "metadata": {
        "id": "8QTqpYpDi5gk"
      },
      "source": [
        "#inporting qutip, numpy and plotting\n",
        "from qutip import *\n",
        "from numpy import *\n",
        "import numpy as np\n",
        "import matplotlib.pyplot as plt\n",
        "from mpl_toolkits.mplot3d.axes3d import Axes3D\n",
        "from matplotlib import cm, colors"
      ],
      "execution_count": null,
      "outputs": []
    },
    {
      "cell_type": "code",
      "source": [
        "# redefining the Wigner function because qutip had a bug in the source code\n",
        "from scipy.special import *\n",
        "\n",
        "def _rho_kq(rho, j, k, q):\n",
        "    v = 0j\n",
        "\n",
        "    for m1 in arange(-j, j+1):\n",
        "        for m2 in arange(-j, j+1):\n",
        "            v += (-1)**(j - m1 - q) * clebsch(j, j, k, m1, -m2,\n",
        "                                              q) * rho.data[int(m1 + j), int(m2 + j)] #added int\n",
        "\n",
        "    return v\n",
        "\n",
        "\n",
        "def spin_wigner(rho, theta, phi):\n",
        "    \"\"\"Wigner function for a spin-j system on the 2-sphere of radius j\n",
        "       (for j = 1/2 this is the Bloch sphere).\n",
        "\n",
        "    Parameters\n",
        "    ----------\n",
        "    state : qobj\n",
        "        A state vector or density matrix for a spin-j quantum system.\n",
        "    theta : array_like\n",
        "        Polar angle at which to calculate the W function.\n",
        "    phi : array_like\n",
        "        Azimuthal angle at which to calculate the W function.\n",
        "\n",
        "    Returns\n",
        "    -------\n",
        "    W, THETA, PHI : 2d-array\n",
        "        Values representing the spin Wigner function at the values specified\n",
        "        by THETA and PHI.\n",
        "\n",
        "    Notes\n",
        "    -----\n",
        "    Experimental.\n",
        "\n",
        "    \"\"\"\n",
        "\n",
        "    if rho.type == 'bra':\n",
        "        rho = rho.dag()\n",
        "\n",
        "    if rho.type == 'ket':\n",
        "        rho = ket2dm(rho)\n",
        "\n",
        "    J = rho.shape[0]\n",
        "    j = (J - 1) / 2\n",
        "\n",
        "    THETA, PHI = meshgrid(theta, phi)\n",
        "\n",
        "    W = np.zeros_like(THETA, dtype=complex)\n",
        "\n",
        "    for k in range(int(2 * j)+1):\n",
        "        for q in arange(-k, k+1):\n",
        "            # sph_harm takes azimuthal angle then polar angle as arguments\n",
        "            W += _rho_kq(rho, j, k, q) * sph_harm(q, k, PHI, THETA)\n",
        "\n",
        "    return W, THETA, PHI"
      ],
      "metadata": {
        "id": "9xGCF6BwaM-e"
      },
      "execution_count": null,
      "outputs": []
    },
    {
      "cell_type": "code",
      "source": [
        "# Project from full 4 dimensional space into the J=1 subspace\n",
        "def symmetric_projection(rho):\n",
        "  J = 1\n",
        "  data = [np.sum([[clebsch(1/2, 1/2, J, m1-1/2, m2-1/2, m)*rho.data[int(m1*2+m2)] for m1 in [0,1]] for m2 in [0,1] ]) for m in arange(-J,J+1)]\n",
        "  rho_spin_1 = basis(2*J+1,0) * data[0]\n",
        "  for m in range(1,2*J+1):\n",
        "    rho_spin_1 += basis(2*J+1,m) * data[m]\n",
        "  return Qobj(rho_spin_1)"
      ],
      "metadata": {
        "id": "jJQzHsnA9CK-"
      },
      "execution_count": null,
      "outputs": []
    },
    {
      "cell_type": "code",
      "source": [
        "#test projection\n",
        "symmetric_projection(Qobj(np.array([0,1/np.sqrt(2),1/np.sqrt(2),0]).T)).full"
      ],
      "metadata": {
        "id": "dPECGFBDhTUL"
      },
      "execution_count": null,
      "outputs": []
    },
    {
      "cell_type": "markdown",
      "source": [
        "# Single qubit circuit"
      ],
      "metadata": {
        "id": "3yvKqjfAeiRA"
      }
    },
    {
      "cell_type": "markdown",
      "source": [
        "## Get quantum circuit output\n",
        "Multiply matricies for single qubit gates as in Section III of the main text"
      ],
      "metadata": {
        "id": "ZtGgExcPeCl2"
      }
    },
    {
      "cell_type": "code",
      "source": [
        "# intial state\n",
        "psi_initial = ket(\"0\")\n",
        "print(\"Inital State:\")\n",
        "print(psi_initial)"
      ],
      "metadata": {
        "id": "IkzjfJxxeZJ7"
      },
      "execution_count": null,
      "outputs": []
    },
    {
      "cell_type": "code",
      "source": [
        "# Rotate into x direction with Hadamard transformation\n",
        "H1 = qutip.qip.operations.gates.hadamard_transform(1) #one qubit Hadamard\n",
        "print(\"One qubit Hadamard:\")\n",
        "print(H1)\n",
        "\n",
        "psi_x = H1 * psi_initial #Apply Hadamard by multiplication\n",
        "print(\"\\nResulting state:\")\n",
        "print(psi_x)"
      ],
      "metadata": {
        "id": "NnB8gsote8wU"
      },
      "execution_count": null,
      "outputs": []
    },
    {
      "cell_type": "code",
      "source": [
        "# Define Rz gate for theta = pi/3\n",
        "phi = np.pi/3\n",
        "Rz_phi = qutip.qip.operations.gates.rz(phi)\n",
        "print(\"Rz operator:\")\n",
        "print(Rz_phi)\n",
        "# Apply Rz gate to inital state\n",
        "psi_theta = Rz_phi * psi_x\n",
        "print(\"\\nRotated State:\")\n",
        "print(psi_theta)"
      ],
      "metadata": {
        "id": "hUhpA0ArfjZG"
      },
      "execution_count": null,
      "outputs": []
    },
    {
      "cell_type": "code",
      "source": [
        "# Action of final beamsplitter \n",
        "psi_final = H1 * psi_theta\n",
        "print(\"Final State:\")\n",
        "print(psi_final)"
      ],
      "metadata": {
        "id": "jot4lr5diSGq"
      },
      "execution_count": null,
      "outputs": []
    },
    {
      "cell_type": "markdown",
      "source": [
        "## Plot Bloch Spheres"
      ],
      "metadata": {
        "id": "SvyjP3GSH0mK"
      }
    },
    {
      "cell_type": "code",
      "source": [
        "State_List = [psi_initial, psi_x, psi_theta, psi_final]\n",
        "for i, state in enumerate(State_List):\n",
        "    # Bloch sphere\n",
        "    #ax = fig.add_subplot(3,4,i+9)\n",
        "    plt.figure()\n",
        "    b = qutip.Bloch()\n",
        "    b.font_size = 35\n",
        "    b.vector_width = 8\n",
        "    b.frame_width = 2\n",
        "    b.size = [10,10]\n",
        "    b.ylabel = [r'$y$','']\n",
        "    b.zlabel = [r'$z = \\left|0\\right>$', r'$\\left|1\\right>$']\n",
        "    b.add_states(state)\n",
        "    b.zlpos = [1.25,-1.4]\n",
        "    b.xlpos = [1.25,-1.25]\n",
        "    b.ylpos = [1.2,-1.2]\n",
        "    b.render()\n",
        "    plt.savefig(f'OneQubit_Bloch_{i}.svg')\n"
      ],
      "metadata": {
        "id": "xRNqoa-tIAnV"
      },
      "execution_count": null,
      "outputs": []
    },
    {
      "cell_type": "markdown",
      "source": [
        "# Two Qubits (Un-entangled)"
      ],
      "metadata": {
        "id": "4DRuPymRENI5"
      }
    },
    {
      "cell_type": "code",
      "source": [
        "from scipy.special.basic import h2vp\n",
        "# intial state\n",
        "psi_initial = ket(\"00\")\n",
        "print(\"Inital State:\")\n",
        "print(psi_initial)\n",
        "\n",
        "# Rotate into x direction with Hadamard transformation\n",
        "H2 = qutip.qip.operations.gates.hadamard_transform(2) #one qubit Hadamard\n",
        "print(\"One qubit Hadamard:\")\n",
        "print(H2)\n",
        "\n",
        "psi_x = H2 * psi_initial #Apply Hadamard by multiplication\n",
        "print(\"\\nResulting state:\")\n",
        "print(psi_x)\n",
        "\n",
        "# Define Rz gate for theta = pi/3\n",
        "phi = np.pi/3\n",
        "Rz_phi = qutip.qip.operations.gates.rz(phi) #you could also just call rz(theta), but this way is more precise\n",
        "Rz_phi = tensor(Rz_phi,Rz_phi)\n",
        "print(\"Rz operator:\")\n",
        "print(Rz_phi)\n",
        "\n",
        "# Apply Rz gate to inital state\n",
        "psi_theta = Rz_phi * psi_x\n",
        "print(\"\\nRotated State:\")\n",
        "print(psi_theta)\n",
        "\n",
        "# Action of final beamsplitter \n",
        "psi_final = H2 * psi_theta\n",
        "print(\"Final State:\")\n",
        "print(psi_final)"
      ],
      "metadata": {
        "id": "TEkjg1R6D9H-"
      },
      "execution_count": null,
      "outputs": []
    },
    {
      "cell_type": "code",
      "source": [
        "#define ranges for spherical plotting on the Bloch sphere\n",
        "theta = np.linspace(0,np.pi,200)\n",
        "phi = np.linspace(0,2*np.pi,200)\n",
        "\n",
        "#Flip |0> and |1> for consistancy with definition in Wigner Function\n",
        "XX_gate = (qutip.qip.operations.gates.x_gate(2,0)*qutip.qip.operations.gates.x_gate(2,1)).full\n",
        "\n",
        "#Compute Wigner function and meshes for plotting later\n",
        "W_initial, THETA, PHI = spin_wigner(symmetric_projection(Qobj(XX_gate()*psi_initial)), theta, phi)\n",
        "W_psi_x, THETA, PHI = spin_wigner(symmetric_projection(Qobj(XX_gate()*psi_x)), theta, phi)\n",
        "W_psi_theta, THETA, PHI = spin_wigner(symmetric_projection(Qobj(XX_gate()*psi_theta)), theta, phi)\n",
        "W_final, THETA, PHI = spin_wigner(symmetric_projection(Qobj(XX_gate()*psi_final)), theta, phi)\n",
        "\n",
        "Wigner_List = [W_initial, W_psi_x, W_psi_theta, W_final]"
      ],
      "metadata": {
        "id": "HF2xgB_rjHx8"
      },
      "execution_count": null,
      "outputs": []
    },
    {
      "cell_type": "code",
      "source": [
        "# Plotting\n",
        "\n",
        "# Cartisian Coordinates for sphere\n",
        "x = np.cos(PHI-np.pi/2) * np.sin(THETA)\n",
        "y = np.sin(PHI-np.pi/2) * np.sin(THETA) # cheating to make the axes match up...\n",
        "z = np.cos(THETA)\n",
        "\n",
        "# ring\n",
        "t = linspace(0,2*np.pi,200)\n",
        "x_ring = np.cos(t)\n",
        "y_ring = np.sin(t)\n",
        "z_ring = 0*t\n",
        "\n",
        "def plot_grid(ax):\n",
        "  ax.plot3D(x_ring,y_ring,z_ring,'black',zorder=20,linewidth=1,alpha=1)\n",
        "  \n",
        "  #Big lines\n",
        "  ax.plot3D([0,1.3],[0,0],[0,0],'black',zorder=21,linewidth=2,alpha=1)\n",
        "  ax.plot3D([0,0],[0,-1.6],[0,0],'black',zorder=22,linewidth=2,alpha=1)\n",
        "  ax.plot3D([0,0],[0,0],[0,1.5],'black',zorder=23,linewidth=2,alpha=1)\n",
        "  #small lines\n",
        "  ax.plot3D([0,-1],[0,0],[0,0],'black',zorder=24,linewidth=1,alpha=1)\n",
        "  ax.plot3D([0,0],[0,1],[0,0],'black',zorder=25,linewidth=1,alpha=1)\n",
        "  ax.plot3D([0,0],[0,0],[0,-1],'black',zorder=26,linewidth=1,alpha=1)\n",
        "\n",
        "# Set the aspect ratio to 1 so our sphere looks spherical\n",
        "#fig = plt.figure(figsize=plt.figaspect(0.5))\n",
        "\n",
        "for i, Wigner in enumerate(Wigner_List):\n",
        "  fcolors = Wigner.real\n",
        "  fmax, fmin = fcolors.max(), fcolors.min()\n",
        "  #fcolors = (fcolors)/(2*np.max(fcolors))+0.5 \n",
        "  fcolors = (fcolors)/(2*0.8)+0.5 \n",
        "\n",
        "  fig = plt.figure(figsize=plt.figaspect(1))\n",
        "  ax = fig.add_subplot(1,1,1, projection='3d')\n",
        "  ax.plot_surface(x, y, z,  rstride=1, cstride=1, facecolors=cm.RdBu(fcolors))\n",
        "  plot_grid(ax)\n",
        "  ax.set_axis_off()\n",
        "  fig.savefig(f'BlockSphere_2qubit_{i}.svg', transparent=True)\n",
        "\n"
      ],
      "metadata": {
        "id": "c5OPJ6yOHVtU"
      },
      "execution_count": null,
      "outputs": []
    },
    {
      "cell_type": "markdown",
      "source": [
        "# Two Qubits (Entangled)"
      ],
      "metadata": {
        "id": "woHnssOwP8Gp"
      }
    },
    {
      "cell_type": "code",
      "source": [
        "from scipy.special.basic import h2vp\n",
        "# intial state\n",
        "psi_input = ket(\"00\")\n",
        "print(\"Input State:\")\n",
        "print(psi_input)\n",
        "\n",
        "H1_X = tensor(qutip.qip.operations.gates.hadamard_transform(1),qutip.qip.operations.gates.x_gate(1))\n",
        "CNOT = qutip.qip.operations.gates.cnot(2)\n",
        "print(\"Hadamard x X:\")\n",
        "print(H1_X)\n",
        "\n",
        "print(\"CNOT:\")\n",
        "print(CNOT)\n",
        "\n",
        "psi_initial = CNOT * H1_X * psi_input\n",
        "print(\"Inital State:\")\n",
        "print(psi_initial)\n",
        "\n",
        "\n",
        "# Rotate into x direction with Hadamard transformation\n",
        "H2 = qutip.qip.operations.gates.hadamard_transform(2) #one qubit Hadamard\n",
        "print(\"One qubit Hadamard:\")\n",
        "print(H2)\n",
        "\n",
        "psi_x = H2 * psi_initial #Apply Hadamard by multiplication\n",
        "print(\"\\nResulting state:\")\n",
        "print(psi_x)\n",
        "\n",
        "# Define Rz gate for theta = pi/3\n",
        "phi = np.pi/3\n",
        "Rz_phi = qutip.qip.operations.gates.rz(phi) #you could also just call rz(theta), but this way is more precise\n",
        "Rz_phi = tensor(Rz_phi,Rz_phi)\n",
        "print(\"Rz operator:\")\n",
        "print(Rz_phi)\n",
        "\n",
        "# Apply Rz gate to inital state\n",
        "psi_theta = Rz_phi * psi_x\n",
        "print(\"\\nRotated State:\")\n",
        "print(psi_theta)\n",
        "\n",
        "# Action of final beamsplitter \n",
        "psi_final = H2 * psi_theta\n",
        "print(\"Final State:\")\n",
        "print(psi_final)"
      ],
      "metadata": {
        "id": "Ce3SMiekH9iy"
      },
      "execution_count": null,
      "outputs": []
    },
    {
      "cell_type": "code",
      "source": [
        "#define ranges for spherical plotting on the Bloch sphere\n",
        "theta = np.linspace(0,np.pi,200)\n",
        "phi = np.linspace(0,2*np.pi,200)\n",
        "\n",
        "#Flip |0> and |1> for consistancy with definition in Wigner Function\n",
        "XX_gate = (qutip.qip.operations.gates.x_gate(2,0)*qutip.qip.operations.gates.x_gate(2,1)).full\n",
        "\n",
        "#Compute Wigner function and meshes for plotting later\n",
        "W_initial, THETA, PHI = spin_wigner(symmetric_projection(Qobj(XX_gate()*psi_initial)), theta, phi)\n",
        "W_psi_x, THETA, PHI = spin_wigner(symmetric_projection(Qobj(XX_gate()*psi_x)), theta, phi)\n",
        "W_psi_theta, THETA, PHI = spin_wigner(symmetric_projection(Qobj(XX_gate()*psi_theta)), theta, phi)\n",
        "W_final, THETA, PHI = spin_wigner(symmetric_projection(Qobj(XX_gate()*psi_final)), theta, phi)\n",
        "\n",
        "Wigner_List = [W_initial, W_psi_x, W_psi_theta, W_final]"
      ],
      "metadata": {
        "id": "ktFztUtTJ2MI"
      },
      "execution_count": null,
      "outputs": []
    },
    {
      "cell_type": "code",
      "source": [
        "# Plotting\n",
        "\n",
        "# Cartisian Coordinates for sphere\n",
        "x = np.cos(PHI-np.pi/2) * np.sin(THETA)\n",
        "y = np.sin(PHI-np.pi/2) * np.sin(THETA) # cheating to make the axes match up...\n",
        "z = np.cos(THETA)\n",
        "\n",
        "# ring\n",
        "t = linspace(0,2*np.pi,200)\n",
        "x_ring = np.cos(t)\n",
        "y_ring = np.sin(t)\n",
        "z_ring = 0*t\n",
        "\n",
        "def plot_grid(ax):\n",
        "  ax.plot3D(x_ring,y_ring,z_ring,'black',zorder=20,linewidth=1,alpha=1)\n",
        "  \n",
        "  #Big lines\n",
        "  ax.plot3D([0,1.3],[0,0],[0,0],'black',zorder=21,linewidth=2,alpha=1)\n",
        "  ax.plot3D([0,0],[0,-1.6],[0,0],'black',zorder=22,linewidth=2,alpha=1)\n",
        "  ax.plot3D([0,0],[0,0],[0,1.5],'black',zorder=23,linewidth=2,alpha=1)\n",
        "  #small lines\n",
        "  ax.plot3D([0,-1],[0,0],[0,0],'black',zorder=24,linewidth=1,alpha=1)\n",
        "  ax.plot3D([0,0],[0,1],[0,0],'black',zorder=25,linewidth=1,alpha=1)\n",
        "  ax.plot3D([0,0],[0,0],[0,-1],'black',zorder=26,linewidth=1,alpha=1)\n",
        "\n",
        "# Set the aspect ratio to 1 so our sphere looks spherical\n",
        "#fig = plt.figure(figsize=plt.figaspect(0.5))\n",
        "\n",
        "for i, Wigner in enumerate(Wigner_List):\n",
        "  fcolors = Wigner.real\n",
        "  fmax, fmin = fcolors.max(), fcolors.min()\n",
        "  #fcolors = (fcolors)/(2*np.max(fcolors))+0.5 \n",
        "  fcolors = (fcolors)/(2*0.8)+0.5 \n",
        "\n",
        "  fig = plt.figure(figsize=plt.figaspect(1))\n",
        "  ax = fig.add_subplot(1,1,1, projection='3d')\n",
        "  ax.plot_surface(x, y, z,  rstride=1, cstride=1, facecolors=cm.RdBu(fcolors))\n",
        "  plot_grid(ax)\n",
        "  ax.set_axis_off()\n",
        "  fig.savefig(f'BlockSphere_2qubit_Entangled_{i}.svg', transparent=True)"
      ],
      "metadata": {
        "id": "-UMZYwAVivGX"
      },
      "execution_count": null,
      "outputs": []
    }
  ]
}
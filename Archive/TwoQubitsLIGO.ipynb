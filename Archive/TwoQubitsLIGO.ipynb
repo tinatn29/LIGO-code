{
  "cells": [
    {
      "cell_type": "code",
      "execution_count": null,
      "id": "191b1733",
      "metadata": {
        "id": "191b1733"
      },
      "outputs": [],
      "source": [
        "%matplotlib inline\n",
        "# Importing standard Qiskit libraries and configuring account\n",
        "from qiskit import QuantumCircuit, QuantumRegister, \\\n",
        "        ClassicalRegister, execute, Aer, IBMQ\n",
        "from qiskit.compiler import transpile, assemble\n",
        "from qiskit.tools.jupyter import *\n",
        "from qiskit.visualization import *\n",
        "from ibm_quantum_widgets import *\n",
        "\n",
        "from qiskit.tools.visualization import plot_histogram\n",
        "from qiskit.tools.monitor import job_monitor\n",
        "\n",
        "# Importing standard libraries for ploting and doing math\n",
        "import matplotlib.pyplot as plt\n",
        "import numpy as np\n",
        "from numpy import pi\n",
        "\n",
        "# Loading your IBM Q account(s)\n",
        "provider = IBMQ.load_account()"
      ]
    },
    {
      "cell_type": "code",
      "execution_count": null,
      "id": "b6994bad",
      "metadata": {
        "id": "b6994bad"
      },
      "outputs": [],
      "source": [
        "# Set the number of registers for you quantum circuit\n",
        "qreg_q = QuantumRegister(2, 'q')\n",
        "creg_c = ClassicalRegister(2, 'c')\n",
        "\n",
        "# Initialize a list to hold all of the circuits you want to run at the same time\n",
        "circuits = []\n",
        "# List of the parameter you get to vary, \n",
        "# here it's chosing 5 angles evenly space from 0 to 2*pi\n",
        "angles = np.linspace(0,2*pi,15) \n",
        "\n",
        "#list counting number of trials\n",
        "trials = range(5) \n",
        "\n",
        "for angle in angles:\n",
        "    # Copy in your code from the quantum composer here:\n",
        "    circuit = QuantumCircuit(qreg_q, creg_c)\n",
        "    circuit.reset(qreg_q[0])\n",
        "    circuit.reset(qreg_q[1])\n",
        "    circuit.h(qreg_q[0])\n",
        "    circuit.x(qreg_q[1])\n",
        "    circuit.cx(qreg_q[0], qreg_q[1])\n",
        "    circuit.h(qreg_q[0])\n",
        "    circuit.h(qreg_q[1])\n",
        "    circuit.rz(angle, qreg_q[0])\n",
        "    circuit.rz(angle, qreg_q[1])\n",
        "    circuit.h(qreg_q[0])\n",
        "    circuit.h(qreg_q[1])\n",
        "    circuit.measure(qreg_q[0], creg_c[0])\n",
        "    circuit.measure(qreg_q[1], creg_c[1])\n",
        "    \n",
        "    \n",
        "    # Add the circuit to the list of circuits you would like to use \n",
        "    # Currently set up to add it multiple times if \n",
        "    for trial in trials:\n",
        "        circuits.append(circuit)"
      ]
    },
    {
      "cell_type": "code",
      "execution_count": null,
      "id": "a4df87e7",
      "metadata": {
        "id": "a4df87e7"
      },
      "outputs": [],
      "source": [
        "# Check to see how many circuits we've made (should be number of angles * number of trials)\n",
        "print(len(circuits))"
      ]
    },
    {
      "cell_type": "code",
      "execution_count": null,
      "id": "192a0b88",
      "metadata": {
        "id": "192a0b88"
      },
      "outputs": [],
      "source": [
        "# Draw circuit diagram (Optional)\n",
        "circuit_to_draw = circuits[0] # Selecting the first circuit in the list, \n",
        "                              # you can change the 0 to look at other circuits"
      ]
    },
    {
      "cell_type": "code",
      "execution_count": null,
      "id": "37722e50",
      "metadata": {
        "id": "37722e50"
      },
      "outputs": [],
      "source": [
        "# See the circuit as a picture here (can take a couple minutes)\n",
        "circuit_to_draw.draw(output='latex')"
      ]
    },
    {
      "cell_type": "code",
      "execution_count": null,
      "id": "1b29acc4",
      "metadata": {
        "id": "1b29acc4"
      },
      "outputs": [],
      "source": [
        "# Print out the source code to copy into the paper\n",
        "source_code = circuit_to_draw.draw(output='latex_source')\n",
        "print(source_code)"
      ]
    },
    {
      "cell_type": "code",
      "execution_count": null,
      "id": "2bdfc170",
      "metadata": {
        "id": "2bdfc170"
      },
      "outputs": [],
      "source": [
        "# Set up connection to quantum computer. \n",
        "# You might want to check in the circuit developer which one is the best to use/ not too busy\n",
        "# Higher quantum volume may mean that it matches your predictions better, but is more busy\n",
        "\n",
        "# belem: 5 qubits, 16 Quantum volume\n",
        "# manila: 5 qubits, 32 quantum volume\n",
        "device_backend = provider.get_backend('ibmq_manila') \n",
        "\n",
        "# Set the number of shots:\n",
        "device_shots = 1024"
      ]
    },
    {
      "cell_type": "code",
      "execution_count": null,
      "id": "d00ef40b",
      "metadata": {
        "id": "d00ef40b"
      },
      "outputs": [],
      "source": [
        "# Run all your circuits on the quantum computer!\n",
        "## backend = device name, shots = number of shots\n",
        "## memory = True means that you remeber all data points in order (not just counts)\n",
        "job = execute(circuits, backend=device_backend, shots=device_shots,optimization_level=3,memory=True)\n",
        "# Keep an eye on where you are in the queue\n",
        "job_monitor(job)\n",
        "# Record the data from all circuits as a Result object\n",
        "result = job.result()"
      ]
    },
    {
      "cell_type": "code",
      "execution_count": null,
      "id": "389c8376",
      "metadata": {
        "id": "389c8376"
      },
      "outputs": [],
      "source": [
        "# Look here for everything you can do to a result: \n",
        "# https://qiskit.org/documentation/stubs/qiskit.result.Result.html#qiskit.result.Result\n",
        "\n",
        "# For example: Extract the counts for each circuit\n",
        "data_counts = [result.get_counts(i) for i in range(len(circuits))]\n",
        "data_full = [result.get_memory(i) for i in range(len(circuits))]"
      ]
    },
    {
      "cell_type": "code",
      "execution_count": null,
      "id": "ccb4b89b",
      "metadata": {
        "id": "ccb4b89b"
      },
      "outputs": [],
      "source": [
        "# look at wat counts looks like (it's a dictionary): \n",
        "data_counts[0]"
      ]
    },
    {
      "cell_type": "code",
      "execution_count": null,
      "id": "258b83f1",
      "metadata": {
        "id": "258b83f1"
      },
      "outputs": [],
      "source": [
        "# You can get the number zero counts like this: \n",
        "data_counts[0]['0']"
      ]
    },
    {
      "cell_type": "code",
      "execution_count": null,
      "id": "b0aeafdd",
      "metadata": {
        "id": "b0aeafdd"
      },
      "outputs": [],
      "source": [
        "Num_00s = np.array([data_counts[i]['00'] for i in range(len(circuits))])\n",
        "Num_01s = np.array([data_counts[i]['01'] for i in range(len(circuits))])\n",
        "Num_10s = np.array([data_counts[i]['10'] for i in range(len(circuits))])\n",
        "Num_11s = np.array([data_counts[i]['11'] for i in range(len(circuits))])"
      ]
    },
    {
      "cell_type": "code",
      "execution_count": null,
      "id": "ebcf665a",
      "metadata": {
        "id": "ebcf665a"
      },
      "outputs": [],
      "source": [
        "plt.plot(Num_00s,'o')\n",
        "plt.plot(Num_01s,'o')\n",
        "plt.plot(Num_10s,'o')\n",
        "plt.plot(Num_11s,'o')"
      ]
    },
    {
      "cell_type": "code",
      "execution_count": null,
      "id": "973be90b",
      "metadata": {
        "id": "973be90b"
      },
      "outputs": [],
      "source": [
        "np.savetxt('./Results/Num_00s_5Trials_manila.csv',Num_00s)\n",
        "np.savetxt('./Results/Num_01s_5Trials_manila.csv',Num_01s)\n",
        "np.savetxt('./Results/Num_10s_5Trials_manila.csv',Num_10s)\n",
        "np.savetxt('./Results/Num_11s_5Trials_manila.csv',Num_11s)\n",
        "np.savetxt('./Results/angles_5Trials_manila.csv',angles)"
      ]
    }
  ],
  "metadata": {
    "kernelspec": {
      "display_name": "Python 3",
      "language": "python",
      "name": "python3"
    },
    "language_info": {
      "codemirror_mode": {
        "name": "ipython",
        "version": 3
      },
      "file_extension": ".py",
      "mimetype": "text/x-python",
      "name": "python",
      "nbconvert_exporter": "python",
      "pygments_lexer": "ipython3",
      "version": "3.8.10"
    },
    "colab": {
      "name": "TwoQubitsLIGO.ipynb",
      "provenance": []
    }
  },
  "nbformat": 4,
  "nbformat_minor": 5
}